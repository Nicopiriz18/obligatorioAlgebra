{
 "cells": [
  {
   "cell_type": "markdown",
   "metadata": {
    "id": "dsUTG8wTSPPx"
   },
   "source": [
    "# Listas y como recorrerlas:\n",
    "\n",
    "Comenzamos estudiando los arrays y las formas de recorrerlos"
   ]
  },
  {
   "cell_type": "code",
   "execution_count": null,
   "metadata": {
    "colab": {
     "base_uri": "https://localhost:8080/"
    },
    "id": "-l1QswlPSMPi",
    "outputId": "274d5b9b-5554-45ac-d7c5-a19f4dc899bb"
   },
   "outputs": [
    {
     "name": "stdout",
     "output_type": "stream",
     "text": [
      "El tipo de objeto es:  <class 'list'>\n"
     ]
    }
   ],
   "source": [
    "# array\n",
    "arr1 = [\"algebra 1\", \"calculo 1\", \"matematica discreta\"]\n",
    "print(\"El tipo de objeto es: \",type(arr1))\n"
   ]
  },
  {
   "cell_type": "markdown",
   "metadata": {
    "id": "L8x-j-5ZS4SP"
   },
   "source": [
    "Los arrays en python son objetos tipo \"lista\", que tienen sus funciones (append,insert, etc).\n",
    "\n",
    "Para recorrerlo y trabajar con el:"
   ]
  },
  {
   "cell_type": "code",
   "execution_count": 2,
   "metadata": {
    "colab": {
     "base_uri": "https://localhost:8080/"
    },
    "id": "qJTCleJcTDcZ",
    "outputId": "e18aa812-75b1-4e15-870b-868fc98acb9c"
   },
   "outputs": [
    {
     "name": "stdout",
     "output_type": "stream",
     "text": [
      "algebra 1\n",
      "calculo 1\n",
      "matematica discreta\n"
     ]
    }
   ],
   "source": [
    "for i in arr1: # i es un ELEMENTO del array, no un índice\n",
    "  print(i)\n",
    "\n"
   ]
  },
  {
   "cell_type": "code",
   "execution_count": 3,
   "metadata": {
    "colab": {
     "base_uri": "https://localhost:8080/"
    },
    "id": "TnQBzvzeTPAP",
    "outputId": "650d31ab-42b8-4683-848b-8ff818c275b8"
   },
   "outputs": [
    {
     "name": "stdout",
     "output_type": "stream",
     "text": [
      "índice: 0, elemento: algebra 1\n",
      "índice: 1, elemento: calculo 1\n",
      "índice: 2, elemento: matematica discreta\n"
     ]
    }
   ],
   "source": [
    "# tambien se puede usar una estructura mas tradicional:\n",
    "\n",
    "for i in range(len(arr1)):\n",
    "  print(f\"índice: {i}, elemento: {arr1[i]}\")\n",
    "\n"
   ]
  },
  {
   "cell_type": "code",
   "execution_count": 4,
   "metadata": {
    "colab": {
     "base_uri": "https://localhost:8080/"
    },
    "id": "1dwtiotOTgU1",
    "outputId": "e7c081f0-2288-41a4-b9ba-6251d49c85af"
   },
   "outputs": [
    {
     "name": "stdout",
     "output_type": "stream",
     "text": [
      "valor de i: 0, materia: algebra 1\n",
      "valor de i: 1, materia: calculo 1\n",
      "valor de i: 2, materia: matematica discreta\n"
     ]
    }
   ],
   "source": [
    "# otra forma:\n",
    "\n",
    "for i, materia in enumerate(arr1): # una forma de combinar ambas formas de recorrer\n",
    "  print(f\"valor de i: {i}, materia: {materia}\")"
   ]
  },
  {
   "cell_type": "markdown",
   "metadata": {
    "id": "ojVfXMAmYK2m"
   },
   "source": [
    "Existen diversas formas de agregar elementos a arrays\n"
   ]
  },
  {
   "cell_type": "code",
   "execution_count": 5,
   "metadata": {
    "colab": {
     "base_uri": "https://localhost:8080/"
    },
    "id": "7KP6yaYsYKF6",
    "outputId": "0a7fad94-56c3-4663-ab85-7b6642a85545"
   },
   "outputs": [
    {
     "name": "stdout",
     "output_type": "stream",
     "text": [
      "Array original, pero con la mejor matemática agregada al final: ['algebra 1', 'calculo 1', 'matematica discreta', 'Optimización con Álgebra Lineal']\n",
      "Elementos del 1 al 3:  ['calculo 1', 'matematica discreta']\n",
      "Ultimo elemento: Optimización con Álgebra Lineal\n",
      "elementos del 3 en adelante: ['matematica discreta', 'Optimización con Álgebra Lineal']\n"
     ]
    }
   ],
   "source": [
    "# agregamos la mejor matematica de ela catedra:\n",
    "\n",
    "arr1.append(\"Optimización con Álgebra Lineal\")\n",
    "print(\"Array original, pero con la mejor matemática agregada al final:\",arr1)\n",
    "\n",
    "# si queremos obtener los elementos del 1 al 2:\n",
    "\n",
    "print(\"Elementos del 1 al 3: \",arr1[1:3]) # no incluye al 3. Numericamente es comodo\n",
    "\n",
    "# si queremos el ultimo elemento:\n",
    "print(\"Ultimo elemento:\",arr1[-1])\n",
    "\n",
    "# si queremos los elementos del 2 al ultimo:\n",
    "print(\"elementos del 3 en adelante:\",arr1[2:])"
   ]
  },
  {
   "cell_type": "markdown",
   "metadata": {
    "id": "kKzv_JNwUAPD"
   },
   "source": [
    "Para trabajar con arrays numéricos, recomendamos utilizar los objetos \"numpy array\" que vienen con sus propias funciones mas orientadas al algebra"
   ]
  },
  {
   "cell_type": "code",
   "execution_count": null,
   "metadata": {
    "colab": {
     "base_uri": "https://localhost:8080/"
    },
    "id": "p5cFtFpuT9M8",
    "outputId": "72a1c677-19da-4fb5-f4f8-333c9b743a8c"
   },
   "outputs": [
    {
     "name": "stdout",
     "output_type": "stream",
     "text": [
      "El tipo es: <class 'numpy.ndarray'>\n"
     ]
    }
   ],
   "source": [
    "import numpy as np\n",
    "arr2 = [1, 2, 3, 4, 5]\n",
    "arr2 = np.array(arr2) # lo convertimos a numpy array.\n",
    "\n",
    "# arr2 mantiene todas las propiedades de una lista normal, pero tenemos mas funciones.\n",
    "\n",
    "\n",
    "print(\"El tipo es:\",type(arr2))\n"
   ]
  },
  {
   "cell_type": "code",
   "execution_count": null,
   "metadata": {
    "colab": {
     "base_uri": "https://localhost:8080/"
    },
    "id": "2FlEOETiUe70",
    "outputId": "18853355-6f9f-4350-8a2d-ecf8cde892e8"
   },
   "outputs": [
    {
     "name": "stdout",
     "output_type": "stream",
     "text": [
      "Elementos de arr2 al cuadrado:  [ 1  4  9 16 25]\n",
      "Elementos pares de arr2:\n",
      "2\n",
      "4\n"
     ]
    }
   ],
   "source": [
    "# arr2 es compatible con operaciones matematicas\n",
    "\n",
    "print(\"Elementos de arr2 al cuadrado: \",np.power(arr2, 2))\n",
    "\n",
    "# imprimir solo los numeros pares:\n",
    "\n",
    "print(\"Elementos pares de arr2:\")\n",
    "for i in arr2:\n",
    "  if i%2 == 0:\n",
    "    print(i)\n",
    "\n",
    "\n",
    "\n"
   ]
  },
  {
   "cell_type": "code",
   "execution_count": null,
   "metadata": {
    "colab": {
     "base_uri": "https://localhost:8080/"
    },
    "id": "0NE7JQWbVQSb",
    "outputId": "c2370252-11ee-4413-97ac-a127dffcc2d7"
   },
   "outputs": [
    {
     "name": "stdout",
     "output_type": "stream",
     "text": [
      "Elementos pares de arr2\n",
      "2\n",
      "4\n",
      "Elementos impares de arr2\n",
      "1\n",
      "3\n",
      "5\n"
     ]
    }
   ],
   "source": [
    "# otra forma de hacerlo:\n",
    "# para python, 0 es igual a FALSE y cualquier cosa distinto de 0 es igual a TRUE, podemos hacer uso de eso\n",
    "print(\"Elementos pares de arr2\")\n",
    "for i in arr2:\n",
    "  if not i%2:\n",
    "    print(i)\n",
    "\n",
    "# si queremos los impares:\n",
    "print(\"Elementos impares de arr2\")\n",
    "for i in arr2:\n",
    "  if i%2: # si i%2 es 0, entonces la condicion es FALSE y no entra. Si i%2 es 1 (impar) entonces es TRUE y entra\n",
    "    print(i)\n"
   ]
  },
  {
   "cell_type": "markdown",
   "metadata": {
    "id": "bZ7OGOkUZtAs"
   },
   "source": [
    "# Importar archivos csv\n"
   ]
  },
  {
   "cell_type": "markdown",
   "metadata": {
    "id": "nr6gN06yaHw8"
   },
   "source": [
    "Primero montaremos una cuenta de google drive. Hay que elegir la cuenta donde hayan subido los archivos csv."
   ]
  },
  {
   "cell_type": "code",
   "execution_count": null,
   "metadata": {
    "colab": {
     "base_uri": "https://localhost:8080/"
    },
    "id": "7fGy2Y4jZsYj",
    "outputId": "6fbdb9c9-e166-42c2-f24a-1019d763e69e"
   },
   "outputs": [
    {
     "name": "stdout",
     "output_type": "stream",
     "text": [
      "Drive already mounted at /content/gdrive; to attempt to forcibly remount, call drive.mount(\"/content/gdrive\", force_remount=True).\n"
     ]
    }
   ],
   "source": [
    "from google.colab import drive\n",
    "drive.mount('/content/gdrive')"
   ]
  },
  {
   "cell_type": "markdown",
   "metadata": {
    "id": "PX1J6jyraSTJ"
   },
   "source": [
    "En Python, los datasets se suelen trabajar con la librería Pandas, la cual ofrece métodos para manipular las tablas de datos. A continuación se muestra el código inicial para cargar los datos del problema 1."
   ]
  },
  {
   "cell_type": "code",
   "execution_count": null,
   "metadata": {
    "colab": {
     "base_uri": "https://localhost:8080/"
    },
    "id": "l3IYg_Mhai-J",
    "outputId": "e94621b5-1a1c-4bac-a253-83584e6d26ce"
   },
   "outputs": [
    {
     "name": "stdout",
     "output_type": "stream",
     "text": [
      "Costo de ancho de banda:\n",
      "    grupo de usuarios  servidor  \\\n",
      "0                   1         1   \n",
      "1                   1         2   \n",
      "2                   1         3   \n",
      "3                   1         4   \n",
      "4                   1         5   \n",
      "5                   1         6   \n",
      "6                   2         1   \n",
      "7                   2         2   \n",
      "8                   2         3   \n",
      "9                   2         4   \n",
      "10                  2         5   \n",
      "11                  2         6   \n",
      "12                  3         1   \n",
      "13                  3         2   \n",
      "14                  3         3   \n",
      "15                  3         4   \n",
      "16                  3         5   \n",
      "17                  3         6   \n",
      "18                  4         1   \n",
      "19                  4         2   \n",
      "20                  4         3   \n",
      "21                  4         4   \n",
      "22                  4         5   \n",
      "23                  4         6   \n",
      "24                  5         1   \n",
      "25                  5         2   \n",
      "26                  5         3   \n",
      "27                  5         4   \n",
      "28                  5         5   \n",
      "29                  5         6   \n",
      "30                  6         1   \n",
      "31                  6         2   \n",
      "32                  6         3   \n",
      "33                  6         4   \n",
      "34                  6         5   \n",
      "35                  6         6   \n",
      "36                  7         1   \n",
      "37                  7         2   \n",
      "38                  7         3   \n",
      "39                  7         4   \n",
      "40                  7         5   \n",
      "41                  7         6   \n",
      "42                  8         1   \n",
      "43                  8         2   \n",
      "44                  8         3   \n",
      "45                  8         4   \n",
      "46                  8         5   \n",
      "47                  8         6   \n",
      "\n",
      "    costo del ancho de banda por solicitud (USD por solicitud)  \n",
      "0                                             0.00001           \n",
      "1                                             0.00002           \n",
      "2                                             0.00003           \n",
      "3                                             0.00002           \n",
      "4                                             0.00001           \n",
      "5                                             0.00001           \n",
      "6                                             0.00001           \n",
      "7                                             0.00002           \n",
      "8                                             0.00003           \n",
      "9                                             0.00002           \n",
      "10                                            0.00001           \n",
      "11                                            0.00001           \n",
      "12                                            0.00001           \n",
      "13                                            0.00001           \n",
      "14                                            0.00001           \n",
      "15                                            0.00002           \n",
      "16                                            0.00003           \n",
      "17                                            0.00002           \n",
      "18                                            0.00001           \n",
      "19                                            0.00001           \n",
      "20                                            0.00003           \n",
      "21                                            0.00002           \n",
      "22                                            0.00001           \n",
      "23                                            0.00002           \n",
      "24                                            0.00003           \n",
      "25                                            0.00002           \n",
      "26                                            0.00001           \n",
      "27                                            0.00001           \n",
      "28                                            0.00003           \n",
      "29                                            0.00002           \n",
      "30                                            0.00001           \n",
      "31                                            0.00001           \n",
      "32                                            0.00001           \n",
      "33                                            0.00001           \n",
      "34                                            0.00001           \n",
      "35                                            0.00001           \n",
      "36                                            0.00002           \n",
      "37                                            0.00003           \n",
      "38                                            0.00002           \n",
      "39                                            0.00001           \n",
      "40                                            0.00002           \n",
      "41                                            0.00003           \n",
      "42                                            0.00001           \n",
      "43                                            0.00002           \n",
      "44                                            0.00003           \n",
      "45                                            0.00002           \n",
      "46                                            0.00001           \n",
      "47                                            0.00001           \n",
      "Latencias:\n",
      "    grupo de usuarios  servidor  \\\n",
      "0                   1         1   \n",
      "1                   1         2   \n",
      "2                   1         3   \n",
      "3                   1         4   \n",
      "4                   1         5   \n",
      "5                   1         6   \n",
      "6                   2         1   \n",
      "7                   2         2   \n",
      "8                   2         3   \n",
      "9                   2         4   \n",
      "10                  2         5   \n",
      "11                  2         6   \n",
      "12                  3         1   \n",
      "13                  3         2   \n",
      "14                  3         3   \n",
      "15                  3         4   \n",
      "16                  3         5   \n",
      "17                  3         6   \n",
      "18                  4         1   \n",
      "19                  4         2   \n",
      "20                  4         3   \n",
      "21                  4         4   \n",
      "22                  4         5   \n",
      "23                  4         6   \n",
      "24                  5         1   \n",
      "25                  5         2   \n",
      "26                  5         3   \n",
      "27                  5         4   \n",
      "28                  5         5   \n",
      "29                  5         6   \n",
      "30                  6         1   \n",
      "31                  6         2   \n",
      "32                  6         3   \n",
      "33                  6         4   \n",
      "34                  6         5   \n",
      "35                  6         6   \n",
      "36                  7         1   \n",
      "37                  7         2   \n",
      "38                  7         3   \n",
      "39                  7         4   \n",
      "40                  7         5   \n",
      "41                  7         6   \n",
      "42                  8         1   \n",
      "43                  8         2   \n",
      "44                  8         3   \n",
      "45                  8         4   \n",
      "46                  8         5   \n",
      "47                  8         6   \n",
      "\n",
      "   tiempo de respuesta promedio por solicitud (milisegundos)  \n",
      "0                                                 500         \n",
      "1                                                 600         \n",
      "2                                                 800         \n",
      "3                                                 900         \n",
      "4                                               1,000         \n",
      "5                                                 500         \n",
      "6                                                 500         \n",
      "7                                                 400         \n",
      "8                                                 800         \n",
      "9                                                 900         \n",
      "10                                              1,000         \n",
      "11                                                500         \n",
      "12                                                500         \n",
      "13                                                400         \n",
      "14                                                800         \n",
      "15                                                900         \n",
      "16                                                500         \n",
      "17                                                400         \n",
      "18                                                800         \n",
      "19                                                900         \n",
      "20                                                500         \n",
      "21                                                400         \n",
      "22                                                800         \n",
      "23                                                900         \n",
      "24                                              1,000         \n",
      "25                                                500         \n",
      "26                                                800         \n",
      "27                                                900         \n",
      "28                                              1,000         \n",
      "29                                                500         \n",
      "30                                                400         \n",
      "31                                                500         \n",
      "32                                                400         \n",
      "33                                                800         \n",
      "34                                                900         \n",
      "35                                              1,000         \n",
      "36                                                500         \n",
      "37                                                500         \n",
      "38                                                500         \n",
      "39                                                400         \n",
      "40                                                800         \n",
      "41                                                900         \n",
      "42                                              1,000         \n",
      "43                                                500         \n",
      "44                                                400         \n",
      "45                                                800         \n",
      "46                                                400         \n",
      "47                                              1,000         \n",
      "Demanda:\n",
      "   grupo de usuarios  demanda (solicitudes por minuto)\n",
      "0                  1                              2000\n",
      "1                  2                              1000\n",
      "2                  3                               600\n",
      "3                  4                               900\n",
      "4                  5                              1200\n",
      "5                  6                              4000\n",
      "6                  7                              2000\n",
      "7                  8                              2000\n",
      "Carga máxima de los servidores:\n",
      "   servidor  carga maxima (solicitudes por minuto)\n",
      "0         1                                   3000\n",
      "1         2                                   3000\n",
      "2         3                                   2000\n",
      "3         4                                   4000\n",
      "4         5                                   4000\n",
      "5         6                                   3000\n",
      "Demanda (dict):\n",
      "{1: 2000, 2: 1000, 3: 600, 4: 900, 5: 1200, 6: 4000, 7: 2000, 8: 2000}\n"
     ]
    }
   ],
   "source": [
    "# Importamos las librerías necesarias\n",
    "import cvxpy as cp\n",
    "import numpy as np\n",
    "import pandas as pd\n",
    "\n",
    "# Cargamos los datos desde los archivos CSV\n",
    "costo_ancho_de_banda_df = pd.read_csv('gdrive/My Drive/Colab Notebooks/datos/costo_ancho_de_banda.csv')\n",
    "print(\"Costo de ancho de banda:\")\n",
    "print(costo_ancho_de_banda_df)\n",
    "latencia_df = pd.read_csv('gdrive/My Drive/Colab Notebooks/datos/latencia.csv')\n",
    "print(\"Latencias:\")\n",
    "print(latencia_df)\n",
    "demanda_df = pd.read_csv('gdrive/My Drive/Colab Notebooks/datos/demanda_usuarios.csv')\n",
    "print(\"Demanda:\")\n",
    "print(demanda_df)\n",
    "carga_maxima_servidores_df = pd.read_csv('gdrive/My Drive/Colab Notebooks/datos/carga_maxima_servidores.csv')\n",
    "print(\"Carga máxima de los servidores:\")\n",
    "print(carga_maxima_servidores_df)\n",
    "\n",
    "# Extraemos las listas únicas de grupos de usuarios y servidores\n",
    "grupos_usuarios = demanda_df['grupo de usuarios'].unique()\n",
    "servidores = costo_ancho_de_banda_df['servidor'].unique()\n",
    "\n",
    "# Creamos diccionarios para un acceso más rápido a los datos\n",
    "demanda = dict(zip(demanda_df['grupo de usuarios'], demanda_df['demanda (solicitudes por minuto)']))\n",
    "print(\"Demanda (dict):\")\n",
    "print(demanda)\n",
    "\n",
    "# Transformamos los DataFrames de costos y latencias en tablas pivot\n",
    "costo_ancho_de_banda = costo_ancho_de_banda_df.pivot(\n",
    "    index='grupo de usuarios',\n",
    "    columns='servidor',\n",
    "    values='costo del ancho de banda por solicitud (USD por solicitud)'\n",
    ").fillna(0)\n",
    "\n",
    "latencia = latencia_df.pivot(\n",
    "    index='grupo de usuarios',\n",
    "    columns='servidor',\n",
    "    values='tiempo de respuesta promedio por solicitud (milisegundos)'\n",
    ").fillna(0)\n",
    "\n",
    "# Aseguramos que los valores de latencia y costo sean numéricos\n",
    "latencia = latencia.apply(pd.to_numeric, errors='coerce').fillna(0)\n",
    "costo_ancho_de_banda = costo_ancho_de_banda.apply(pd.to_numeric, errors='coerce').fillna(0)\n",
    "\n",
    "# Leemos la capacidad máxima de los servidores\n",
    "S_j = dict(zip(carga_maxima_servidores_df['servidor'], carga_maxima_servidores_df['carga maxima (solicitudes por minuto)']))\n",
    "\n",
    "# Parámetros del SLA\n",
    "L_SLA = 400  # Umbral de latencia en milisegundos\n",
    "k = 0.0000001  # Costo por milisegundo excedido por solicitud (USD por solicitud por ms)\n",
    "# La última linea que se pone en una notebook de colab se imprime."
   ]
  },
  {
   "cell_type": "code",
   "execution_count": null,
   "metadata": {
    "colab": {
     "base_uri": "https://localhost:8080/"
    },
    "id": "tKdBtU8idF3j",
    "outputId": "8dfe4945-a2e1-4ccb-982c-fac644b56ce1"
   },
   "outputs": [
    {
     "name": "stdout",
     "output_type": "stream",
     "text": [
      "El servidor 2 NO cumple con el SLA para el grupo de usuarios 3\n",
      "El servidor 3 NO cumple con el SLA para el grupo de usuarios 5\n",
      "El servidor 4 cumple con el SLA para el grupo de usuarios 4\n"
     ]
    }
   ],
   "source": [
    "# Ejemplo de cómo definir una función\n",
    "def seridor_cumple_SLA_con_grupo(i, j):\n",
    "  v = latencia.iloc[i,j]\n",
    "  if v <= 400:\n",
    "    print(f\"El servidor {servidores[i]} cumple con el SLA para el grupo de usuarios {grupos_usuarios[j]}\") # Los \"f-strings\" de python pemiten concatenar valores poniendolos entre {}\n",
    "  else:\n",
    "    print(f\"El servidor {servidores[i]} NO cumple con el SLA para el grupo de usuarios {grupos_usuarios[j]}\")\n",
    "\n",
    "\n",
    "# Una vez definida la función, puedo usarla\n",
    "seridor_cumple_SLA_con_grupo(1,2)\n",
    "seridor_cumple_SLA_con_grupo(2,4)\n",
    "seridor_cumple_SLA_con_grupo(3,3)"
   ]
  },
  {
   "cell_type": "code",
   "execution_count": null,
   "metadata": {
    "colab": {
     "base_uri": "https://localhost:8080/"
    },
    "id": "SpitADg4iOrk",
    "outputId": "b621ec64-6e03-41e9-e3d6-4fa7bcdb4ea8"
   },
   "outputs": [
    {
     "name": "stdout",
     "output_type": "stream",
     "text": [
      "[[1 1]\n",
      " [0 1]]\n",
      "\n",
      "\n",
      "[[1 0]\n",
      " [1 1]]\n"
     ]
    }
   ],
   "source": [
    "# @ es el operador de producto matricial en numpy:\n",
    "c1 = np.matrix([[1,0]\n",
    "              ,[0,1]])\n",
    "c2 = np.matrix([[1,1]\n",
    "              ,[0,1]])\n",
    "print(c1 @ c2)\n",
    "print(\"\\n\") # salto de linea\n",
    "print(c1 @ c2.T) # .T hace la traspuesta"
   ]
  },
  {
   "cell_type": "markdown",
   "metadata": {
    "id": "VsJpg3d4VhWS"
   },
   "source": [
    "# Ejemplo: ejercicio 3 del parcial de 2022\n",
    "$$A =\n",
    "\\begin{pmatrix}\n",
    "\\frac{1}{\\sqrt{2}} & \\frac{-1}{\\sqrt{2}} \\\\\n",
    "\\frac{1}{\\sqrt{2}} & \\frac{1}{\\sqrt{2}} \\\\\n",
    "\\end{pmatrix}$$\n",
    "\n",
    "Problema:\n",
    "* Probar que $A^{8} = I$\n",
    "* Hallar valores y vectores propios"
   ]
  },
  {
   "cell_type": "code",
   "execution_count": null,
   "metadata": {
    "colab": {
     "base_uri": "https://localhost:8080/"
    },
    "id": "B_EPXENhVlhk",
    "outputId": "e929e652-9a01-49c7-a64b-838496c9adf3"
   },
   "outputs": [
    {
     "name": "stdout",
     "output_type": "stream",
     "text": [
      "La matriz es: \n",
      " [[ 0.70710678 -0.70710678]\n",
      " [ 0.70710678  0.70710678]]\n",
      "\n",
      "\n",
      "La matriz elevada a la 8 es: \n",
      " [[ 1.00000000e+00  2.39116835e-33]\n",
      " [-2.39116835e-33  1.00000000e+00]]\n"
     ]
    }
   ],
   "source": [
    "# Parte 1\n",
    "\n",
    "\n",
    "a = np.matrix([[1, -1],[1,1]]) # defino el objeto matriz\n",
    "const = np.divide(1,np.sqrt(2)) # defino el 1/sqrt(2) (puedo hacer 1/np.sqrt(2) tambien)\n",
    "a = np.dot(a, const) # multiplico la matriz por 1/sqrt(2). Uso la funcion np.dot (puedo hacer a*const tambien)\n",
    "\n",
    "\n",
    "print(f\"La matriz es: \\n {a}\")\n",
    "print(\"\\n\")\n",
    "print(f\"La matriz elevada a la 8 es: \\n {np.linalg.matrix_power(a, 8)}\") # elevo la matriz a la 8\n"
   ]
  },
  {
   "cell_type": "markdown",
   "metadata": {
    "id": "ChDRQLNHXr2v"
   },
   "source": [
    "Por errores de punto flotante, la potencia a la 8 dio con residuos, lo corregimos haciendo una funcion que redondee elemento a elemento:\n"
   ]
  },
  {
   "cell_type": "code",
   "execution_count": null,
   "metadata": {
    "id": "oqnETsmsXx_4"
   },
   "outputs": [],
   "source": [
    "def cleanMatrix(mat, decimals = 2):\n",
    "  # Descripcion: funcion que \"limpia\" una matriz de errores de punto flotante\n",
    "\n",
    "  # Inputs:\n",
    "  # mat, objeto np.matrix\n",
    "  # decimals: (int) cantidad de decimales a redondear, por defecto en 2\n",
    "\n",
    "  # Outputs:\n",
    "  # mat redondeada, objeto np matrix\n",
    "  return np.matrix.round(mat, decimals)\n",
    "\n"
   ]
  },
  {
   "cell_type": "code",
   "execution_count": null,
   "metadata": {
    "colab": {
     "base_uri": "https://localhost:8080/"
    },
    "id": "hJCuvGFKX0LC",
    "outputId": "77d10f04-30be-4d13-842c-81fc7e57ab86"
   },
   "outputs": [
    {
     "name": "stdout",
     "output_type": "stream",
     "text": [
      "La matriz elevada a la 8 (limpia) es: \n",
      " [[ 1.  0.]\n",
      " [-0.  1.]]\n"
     ]
    }
   ],
   "source": [
    "print(f\"La matriz elevada a la 8 (limpia) es: \\n {cleanMatrix(np.linalg.matrix_power(a, 8))}\") # elevo la matriz a la 8"
   ]
  },
  {
   "cell_type": "code",
   "execution_count": null,
   "metadata": {
    "colab": {
     "base_uri": "https://localhost:8080/"
    },
    "id": "bZvc1y72WwnM",
    "outputId": "e1ff25e9-5ea9-43ab-b4cc-226cfe563342"
   },
   "outputs": [
    {
     "name": "stdout",
     "output_type": "stream",
     "text": [
      "los valores propios son: \n",
      " (0.7071067811865475+0.7071067811865475j) \n",
      " y: \n",
      " (0.7071067811865475-0.7071067811865475j)\n",
      "los vectores propios son:  \n",
      " [[0.70710678+0.j 0.70710678-0.j]]\n",
      " \n",
      " y \n",
      " \n",
      " [[0.-0.70710678j 0.+0.70710678j]] \n",
      "\n"
     ]
    }
   ],
   "source": [
    "# Parte 2\n",
    "\n",
    "data = np.linalg.eig(a)\n",
    "# buscar en documentacion la funcion \"numpy.linalg.eig()\" para entender que estructura retorna:\n",
    "\n",
    "valores_propios = data[0]\n",
    "vectores_propios = data[1]\n",
    "\n",
    "print(f\"los valores propios son: \\n {valores_propios[0]} \\n y: \\n {valores_propios[1]}\") # recordar que j es la unidad imaginaria\n",
    "print(f\"los vectores propios son:  \\n {vectores_propios[0]}\\n \\n y \\n \\n {vectores_propios[1]} \\n\")\n",
    "\n",
    "\n"
   ]
  },
  {
   "cell_type": "markdown",
   "metadata": {
    "id": "LjlW7YocSjFU"
   },
   "source": [
    "## Ejemplo: programacion lineal (ejercicio 7.6):\n",
    " Se dispone de un campo de 480 hectáreas, en el que se puede plantar maíz o trigo, en\n",
    "superficies a definir. El maíz genera ganancias de $30/ha$, y el trigo $40/ha$. Por otra\n",
    "parte, plantar una hectárea de maíz requiere 10 horas de tractor, una de trigo $20$ horas\n",
    "de tractor, y el tractor está disponible un máximo de $8000$ horas. Hallar las superficies\n",
    "óptimas a sembrar de cada grano para maximizar la ganancia.\n",
    "\n",
    "## Solucion:\n",
    "\n",
    "Consideramos:\n",
    "\n",
    "* $x_1$ = \"cantidad de hectáreas de maiz\"\n",
    "* $x_2$ = \"cantidad de hectáreas de trigo\"\n",
    "\n",
    "El problema queda de la forma:\n",
    "\n",
    "\n",
    " $$ \\text{max } 30x_1 + 40x_2$$\n",
    "\n",
    "$$\\text{Sujeto a:} \\\\  x_1+x_2 \\leq 480 ; \\\\\n",
    "10x_1+20x_2 \\leq 8000; \\\\\n",
    "x_1 \\geq 0; \\\\\n",
    "x_2 \\geq 0;$$\n",
    "\n",
    "Usamos la libreria CVXPY para resolver problemas de optimizacion"
   ]
  },
  {
   "cell_type": "code",
   "execution_count": null,
   "metadata": {
    "colab": {
     "base_uri": "https://localhost:8080/"
    },
    "id": "m2SASo3DSgdK",
    "outputId": "64fa9b7a-9ceb-4ec1-e6e6-68f460192eea"
   },
   "outputs": [
    {
     "name": "stdout",
     "output_type": "stream",
     "text": [
      "Solvers instalados:  ['CLARABEL', 'CVXOPT', 'ECOS', 'ECOS_BB', 'GLPK', 'GLPK_MI', 'OSQP', 'SCIPY', 'SCS']\n"
     ]
    }
   ],
   "source": [
    "\n",
    "import cvxpy as cp\n",
    "import pandas as pd\n",
    "\n",
    "print(\"Solvers instalados: \",cp.installed_solvers())\n"
   ]
  },
  {
   "cell_type": "markdown",
   "metadata": {
    "id": "DMKjdZgNahmP"
   },
   "source": [
    "Obligaremos a CVXPY a usar el solver 'GLPK' que usa SIMPLEX (ver documentacion)\n",
    "\n",
    "Formulando el problema:"
   ]
  },
  {
   "cell_type": "code",
   "execution_count": null,
   "metadata": {
    "colab": {
     "base_uri": "https://localhost:8080/"
    },
    "id": "n7SCNXgOaeoh",
    "outputId": "7b8766a2-6bb9-42be-9ccd-6c101936bb66"
   },
   "outputs": [
    {
     "name": "stdout",
     "output_type": "stream",
     "text": [
      " Cantidad de hectareas de maiz:  160.0 \n",
      " Cantidad de hectareas de trigo: 320.0 \n",
      " Presupuesto: $17600.0\n"
     ]
    }
   ],
   "source": [
    "x = cp.Variable(2, ) # Definimos vector (x, y) y ya lo seteamos en no negativo.\n",
    "\n",
    "\n",
    "#-------------FORMULACION DE FUNCION OBJETIVO-------------#\n",
    "c = np.array([30.0, 40.0]) # vector c\n",
    "objective = cp.Maximize(c.T @ x) # para cvxpy el producto matricial es con @. (c.T es la traspuesta de c).\n",
    "\n",
    "#---------------------------------------------------------#\n",
    "\n",
    "\n",
    "#-------------FORMULACION DE CONSTRAINTS------------------#\n",
    "A = np.matrix([\n",
    "    [1  , 1]\n",
    ",   [10 , 20]]) # matriz de desigualdades\n",
    "b = np.array([\n",
    "    480,\n",
    "    8000]) # vector b\n",
    "constraints = [A @ x <= b]\n",
    "#---------------------------------------------------------#\n",
    "\n",
    "\n",
    "#---------------MODELADO y SOLUCION-----------------------#\n",
    "\n",
    "# Creacion del OBJETO problema\n",
    "prob = cp.Problem(objective, constraints)\n",
    "\n",
    "\n",
    "\n",
    "\n",
    "# Solucion del problema\n",
    "result = prob.solve(solver = 'GLPK') # valor de la funcion objetivo, el vector solucion esta en \"x.value\". Le pasamos como parametro \"GLPK\" para que use ese solver.\n",
    "\n",
    "print(f' Cantidad de hectareas de maiz:  {x.value[0]} \\n Cantidad de hectareas de trigo: {x.value[1]} \\n Presupuesto: ${result}')\n",
    "\n"
   ]
  }
 ],
 "metadata": {
  "colab": {
   "provenance": []
  },
  "kernelspec": {
   "display_name": "Python 3",
   "language": "python",
   "name": "python3"
  },
  "language_info": {
   "codemirror_mode": {
    "name": "ipython",
    "version": 3
   },
   "file_extension": ".py",
   "mimetype": "text/x-python",
   "name": "python",
   "nbconvert_exporter": "python",
   "pygments_lexer": "ipython3",
   "version": "3.11.10"
  }
 },
 "nbformat": 4,
 "nbformat_minor": 0
}
