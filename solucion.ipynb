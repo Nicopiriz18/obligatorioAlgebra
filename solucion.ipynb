{
 "cells": [
  {
   "cell_type": "code",
   "execution_count": 1,
   "metadata": {},
   "outputs": [
    {
     "name": "stdout",
     "output_type": "stream",
     "text": [
      "Requirement already satisfied: cvxpy in c:\\users\\manue\\desktop\\yo\\ort\\sem4\\algebra\\obligatorioalgebra\\oblialgebra\\lib\\site-packages (1.6.0)"
     ]
    },
    {
     "name": "stderr",
     "output_type": "stream",
     "text": [
      "\n",
      "[notice] A new release of pip is available: 23.2.1 -> 24.3.1\n",
      "[notice] To update, run: python.exe -m pip install --upgrade pip\n"
     ]
    },
    {
     "name": "stdout",
     "output_type": "stream",
     "text": [
      "\n",
      "Requirement already satisfied: osqp>=0.6.2 in c:\\users\\manue\\desktop\\yo\\ort\\sem4\\algebra\\obligatorioalgebra\\oblialgebra\\lib\\site-packages (from cvxpy) (0.6.7.post3)\n",
      "Requirement already satisfied: clarabel>=0.5.0 in c:\\users\\manue\\desktop\\yo\\ort\\sem4\\algebra\\obligatorioalgebra\\oblialgebra\\lib\\site-packages (from cvxpy) (0.9.0)\n",
      "Requirement already satisfied: scs>=3.2.4.post1 in c:\\users\\manue\\desktop\\yo\\ort\\sem4\\algebra\\obligatorioalgebra\\oblialgebra\\lib\\site-packages (from cvxpy) (3.2.7)\n",
      "Requirement already satisfied: numpy>=1.20 in c:\\users\\manue\\desktop\\yo\\ort\\sem4\\algebra\\obligatorioalgebra\\oblialgebra\\lib\\site-packages (from cvxpy) (2.2.0)\n",
      "Requirement already satisfied: scipy>=1.1.0 in c:\\users\\manue\\desktop\\yo\\ort\\sem4\\algebra\\obligatorioalgebra\\oblialgebra\\lib\\site-packages (from cvxpy) (1.14.1)\n",
      "Requirement already satisfied: qdldl in c:\\users\\manue\\desktop\\yo\\ort\\sem4\\algebra\\obligatorioalgebra\\oblialgebra\\lib\\site-packages (from osqp>=0.6.2->cvxpy) (0.1.7.post4)\n"
     ]
    }
   ],
   "source": [
    "!pip install cvxpy"
   ]
  },
  {
   "cell_type": "code",
   "execution_count": 2,
   "metadata": {},
   "outputs": [
    {
     "name": "stdout",
     "output_type": "stream",
     "text": [
      "Requirement already satisfied: cvxpy[GLPK] in c:\\users\\manue\\desktop\\yo\\ort\\sem4\\algebra\\obligatorioalgebra\\oblialgebra\\lib\\site-packages (1.6.0)\n",
      "Requirement already satisfied: osqp>=0.6.2 in c:\\users\\manue\\desktop\\yo\\ort\\sem4\\algebra\\obligatorioalgebra\\oblialgebra\\lib\\site-packages (from cvxpy[GLPK]) (0.6.7.post3)\n",
      "Requirement already satisfied: clarabel>=0.5.0 in c:\\users\\manue\\desktop\\yo\\ort\\sem4\\algebra\\obligatorioalgebra\\oblialgebra\\lib\\site-packages (from cvxpy[GLPK]) (0.9.0)\n",
      "Requirement already satisfied: scs>=3.2.4.post1 in c:\\users\\manue\\desktop\\yo\\ort\\sem4\\algebra\\obligatorioalgebra\\oblialgebra\\lib\\site-packages (from cvxpy[GLPK]) (3.2.7)\n",
      "Requirement already satisfied: numpy>=1.20 in c:\\users\\manue\\desktop\\yo\\ort\\sem4\\algebra\\obligatorioalgebra\\oblialgebra\\lib\\site-packages (from cvxpy[GLPK]) (2.2.0)\n",
      "Requirement already satisfied: scipy>=1.1.0 in c:\\users\\manue\\desktop\\yo\\ort\\sem4\\algebra\\obligatorioalgebra\\oblialgebra\\lib\\site-packages (from cvxpy[GLPK]) (1.14.1)\n",
      "Requirement already satisfied: cvxopt in c:\\users\\manue\\desktop\\yo\\ort\\sem4\\algebra\\obligatorioalgebra\\oblialgebra\\lib\\site-packages (from cvxpy[GLPK]) (1.3.2)\n",
      "Requirement already satisfied: qdldl in c:\\users\\manue\\desktop\\yo\\ort\\sem4\\algebra\\obligatorioalgebra\\oblialgebra\\lib\\site-packages (from osqp>=0.6.2->cvxpy[GLPK]) (0.1.7.post4)\n"
     ]
    },
    {
     "name": "stderr",
     "output_type": "stream",
     "text": [
      "\n",
      "[notice] A new release of pip is available: 23.2.1 -> 24.3.1\n",
      "[notice] To update, run: python.exe -m pip install --upgrade pip\n"
     ]
    }
   ],
   "source": [
    "!pip install \"cvxpy[GLPK]\""
   ]
  },
  {
   "cell_type": "code",
   "execution_count": 3,
   "metadata": {},
   "outputs": [],
   "source": [
    "import pandas as pd\n",
    "import numpy as np\n",
    "from scipy.optimize import linprog\n",
    "import cvxpy as cp"
   ]
  },
  {
   "cell_type": "markdown",
   "metadata": {},
   "source": [
    "### Planteo del Problema\n",
    "\n",
    "#### Conjuntos\n",
    "- $G$: Conjunto de grupos de usuarios (indexados por $g$).\n",
    "- $S$: Conjunto de servidores (indexados por $s$).\n",
    "\n",
    "#### Datos\n",
    "- $d_g$: Demanda de solicitudes por minuto del grupo de usuarios $g$.\n",
    "- $c_{g,s}^{bw}$: Costo de ancho de banda por solicitud para el grupo de usuarios $g$ hacia el servidor $s$.\n",
    "- $L_{g,s}$: Latencia promedio (ms) entre el grupo $g$ y el servidor $s$.\n",
    "- $M_s$: Carga máxima de solicitudes por minuto que puede soportar el servidor $s$.\n",
    "\n",
    "#### Parámetros\n",
    "- SLA de latencia: $L_{\\text{SLA}} = 400\\,\\text{ms}$.\n",
    "- Costo por ms excedido: $c_{\\text{lat}} = 0.0000001\\,\\text{USD/ms}$.\n",
    "\n",
    "#### Variables de Decisión\n",
    "- $x_{g,s} \\geq 0$: Cantidad de solicitudes por minuto del grupo $g$ que serán atendidas por el servidor $s$.\n",
    "\n",
    "#### Función de Costo por Latencia\n",
    "Si $L_{g,s} > L_{\\text{SLA}}$, el costo por latencia por solicitud es $(L_{g,s} - L_{\\text{SLA}}) \\cdot c_{\\text{lat}}$. Si $L_{g,s} \\leq L_{\\text{SLA}}$, el costo es 0.\n",
    "\n",
    "#### Función Objetivo\n",
    "Minimizar el costo total por minuto:\n",
    "$$\n",
    "\\min \\sum_{g \\in G}\\sum_{s \\in S} x_{g,s} \\left( c_{g,s}^{bw} + \\max(L_{g,s}-L_{\\text{SLA}}, 0) \\cdot c_{\\text{lat}} \\right)\n",
    "$$\n",
    "\n",
    "#### Restricciones\n",
    "1. **Satisfacción de la Demanda por cada Grupo de Usuarios:**\n",
    "$$\n",
    "\\sum_{s \\in S} x_{g,s} = d_g \\quad \\forall g \\in G\n",
    "$$\n",
    "\n",
    "2. **Capacidad Máxima de los Servidores:**\n",
    "$$\n",
    "\\sum_{g \\in G} x_{g,s} \\leq M_s \\quad \\forall s \\in S\n",
    "$$\n",
    "\n",
    "3. **No Negatividad:**\n",
    "$$\n",
    "\\ x_{g,s} \\geq 0 \\quad \\forall g \\in G, \\forall s \\in S\n",
    "$$\n"
   ]
  },
  {
   "cell_type": "code",
   "execution_count": 4,
   "metadata": {},
   "outputs": [],
   "source": [
    "# 1. Carga de datos\n",
    "demanda_df = pd.read_csv(\"OAL_datos_2024/demanda_usuarios.csv\")\n",
    "costo_bw_df = pd.read_csv(\"OAL_datos_2024/costo_ancho_de_banda.csv\")\n",
    "latencia_df = pd.read_csv(\"OAL_datos_2024/latencia.csv\", thousands=',')\n",
    "carga_max_df = pd.read_csv(\"OAL_datos_2024/carga_maxima_servidores.csv\")\n",
    "infra_actual_df = pd.read_csv(\"OAL_datos_2024/infraestructura_actual.csv\")"
   ]
  },
  {
   "cell_type": "code",
   "execution_count": 5,
   "metadata": {},
   "outputs": [],
   "source": [
    "# Extraemos listas de grupos y servidores\n",
    "grupos = demanda_df[\"grupo de usuarios\"].unique()\n",
    "servidores = carga_max_df[\"servidor\"].unique()\n",
    "\n",
    "# Convertimos a estructuras indexadas (matrices o diccionarios)\n",
    "# Aquí crearemos diccionarios para fácil acceso:\n",
    "demanda = {row[\"grupo de usuarios\"]: row[\"demanda (solicitudes por minuto)\"] for _, row in demanda_df.iterrows()}\n",
    "carga_max = {row[\"servidor\"]: row[\"carga maxima (solicitudes por minuto)\"] for _, row in carga_max_df.iterrows()}\n",
    "\n",
    "# Creamos una tabla pivote para costo y latencia\n",
    "costo_bw = costo_bw_df.pivot(index=\"grupo de usuarios\", columns=\"servidor\", values=\"costo del ancho de banda por solicitud (USD por solicitud)\")\n",
    "latencia = latencia_df.pivot(index=\"grupo de usuarios\", columns=\"servidor\", values=\"tiempo de respuesta promedio por solicitud (milisegundos)\")\n",
    "\n",
    "# Aseguramos que el orden de las filas y columnas sea coherente\n",
    "costo_bw = costo_bw.reindex(index=grupos, columns=servidores)\n",
    "latencia = latencia.reindex(index=grupos, columns=servidores)"
   ]
  },
  {
   "cell_type": "code",
   "execution_count": 6,
   "metadata": {},
   "outputs": [],
   "source": [
    "# Definir constantes\n",
    "L_SLA = 400.0\n",
    "c_lat = 0.0000001"
   ]
  },
  {
   "cell_type": "code",
   "execution_count": 7,
   "metadata": {},
   "outputs": [],
   "source": [
    "# 2. Definición de variables de optimización\n",
    "# x_{g,s} = cantidad de solicitudes del grupo g en servidor s\n",
    "x = {(g,s): cp.Variable(nonneg=True) for g in grupos for s in servidores}"
   ]
  },
  {
   "cell_type": "code",
   "execution_count": 8,
   "metadata": {},
   "outputs": [],
   "source": [
    "# 3. Función objetivo\n",
    "# sum_{g,s} x_{g,s} * (costo_bw[g,s] + extra_latencia*g)\n",
    "latencia_excedida = (latencia - L_SLA).clip(lower=0) # Max(L_gs - 400,0)\n",
    "costo_latencia = latencia_excedida * c_lat\n",
    "\n",
    "obj = cp.sum([ x[(g,s)] * (costo_bw.loc[g,s] + costo_latencia.loc[g,s]) \n",
    "               for g in grupos for s in servidores ])"
   ]
  },
  {
   "cell_type": "code",
   "execution_count": 9,
   "metadata": {},
   "outputs": [
    {
     "name": "stdout",
     "output_type": "stream",
     "text": [
      "Solvers instalados:  ['CLARABEL', 'CVXOPT', 'GLPK', 'GLPK_MI', 'OSQP', 'SCIPY', 'SCS']\n"
     ]
    }
   ],
   "source": [
    "print(\"Solvers instalados: \",cp.installed_solvers())"
   ]
  },
  {
   "cell_type": "code",
   "execution_count": 10,
   "metadata": {},
   "outputs": [],
   "source": [
    "# 4. Restricciones\n",
    "restricciones = []\n",
    "\n",
    "# Demanda: sum_s x_{g,s} = d_g\n",
    "for g in grupos:\n",
    "    restricciones.append(cp.sum([x[(g,s)] for s in servidores]) == demanda[g])\n",
    "\n",
    "# Capacidad: sum_g x_{g,s} <= M_s\n",
    "for s in servidores:\n",
    "    restricciones.append(cp.sum([x[(g,s)] for g in grupos]) <= carga_max[s])"
   ]
  },
  {
   "cell_type": "code",
   "execution_count": 11,
   "metadata": {},
   "outputs": [
    {
     "name": "stdout",
     "output_type": "stream",
     "text": [
      "Estado de la solución: optimal\n",
      "Costo mínimo encontrado: 0.19999999999999998\n"
     ]
    }
   ],
   "source": [
    "# 5. Resolver el problema\n",
    "prob = cp.Problem(cp.Minimize(obj), restricciones)\n",
    "prob.solve(solver=cp.GLPK) # Puede usar otro solver como CBC, GLPK, etc.\n",
    "\n",
    "print(\"Estado de la solución:\", prob.status)\n",
    "print(\"Costo mínimo encontrado:\", prob.value)"
   ]
  },
  {
   "cell_type": "code",
   "execution_count": 12,
   "metadata": {},
   "outputs": [
    {
     "name": "stdout",
     "output_type": "stream",
     "text": [
      "Distribución óptima:\n",
      "    grupo  servidor  asignacion\n",
      "0       1         1      1000.0\n",
      "5       1         6      1000.0\n",
      "7       2         2      1000.0\n",
      "13      3         2       600.0\n",
      "21      4         4       900.0\n",
      "25      5         2      1200.0\n",
      "30      6         1      2000.0\n",
      "32      6         3      2000.0\n",
      "39      7         4      2000.0\n",
      "46      8         5      2000.0\n"
     ]
    },
    {
     "ename": "KeyError",
     "evalue": "'grupo'",
     "output_type": "error",
     "traceback": [
      "\u001b[1;31m---------------------------------------------------------------------------\u001b[0m",
      "\u001b[1;31mKeyError\u001b[0m                                  Traceback (most recent call last)",
      "File \u001b[1;32mc:\\Users\\manue\\Desktop\\YO\\ORT\\sem4\\algebra\\obligatorioAlgebra\\oblialgebra\\Lib\\site-packages\\pandas\\core\\indexes\\base.py:3805\u001b[0m, in \u001b[0;36mIndex.get_loc\u001b[1;34m(self, key)\u001b[0m\n\u001b[0;32m   3804\u001b[0m \u001b[38;5;28;01mtry\u001b[39;00m:\n\u001b[1;32m-> 3805\u001b[0m     \u001b[38;5;28;01mreturn\u001b[39;00m \u001b[38;5;28;43mself\u001b[39;49m\u001b[38;5;241;43m.\u001b[39;49m\u001b[43m_engine\u001b[49m\u001b[38;5;241;43m.\u001b[39;49m\u001b[43mget_loc\u001b[49m\u001b[43m(\u001b[49m\u001b[43mcasted_key\u001b[49m\u001b[43m)\u001b[49m\n\u001b[0;32m   3806\u001b[0m \u001b[38;5;28;01mexcept\u001b[39;00m \u001b[38;5;167;01mKeyError\u001b[39;00m \u001b[38;5;28;01mas\u001b[39;00m err:\n",
      "File \u001b[1;32mindex.pyx:167\u001b[0m, in \u001b[0;36mpandas._libs.index.IndexEngine.get_loc\u001b[1;34m()\u001b[0m\n",
      "File \u001b[1;32mindex.pyx:196\u001b[0m, in \u001b[0;36mpandas._libs.index.IndexEngine.get_loc\u001b[1;34m()\u001b[0m\n",
      "File \u001b[1;32mpandas\\\\_libs\\\\hashtable_class_helper.pxi:7081\u001b[0m, in \u001b[0;36mpandas._libs.hashtable.PyObjectHashTable.get_item\u001b[1;34m()\u001b[0m\n",
      "File \u001b[1;32mpandas\\\\_libs\\\\hashtable_class_helper.pxi:7089\u001b[0m, in \u001b[0;36mpandas._libs.hashtable.PyObjectHashTable.get_item\u001b[1;34m()\u001b[0m\n",
      "\u001b[1;31mKeyError\u001b[0m: 'grupo'",
      "\nThe above exception was the direct cause of the following exception:\n",
      "\u001b[1;31mKeyError\u001b[0m                                  Traceback (most recent call last)",
      "Cell \u001b[1;32mIn[12], line 15\u001b[0m\n\u001b[0;32m     11\u001b[0m \u001b[38;5;66;03m# 7. Calcular el ahorro con respecto a la infraestructura actual\u001b[39;00m\n\u001b[0;32m     12\u001b[0m \u001b[38;5;66;03m# La infraestructura actual podría traer x_actual por minuto.\u001b[39;00m\n\u001b[0;32m     13\u001b[0m \u001b[38;5;66;03m# Supongamos que infraestructura_actual.csv tiene columnas: grupo, servidor, x_actual.\u001b[39;00m\n\u001b[0;32m     14\u001b[0m x_actual_df \u001b[38;5;241m=\u001b[39m infra_actual_df\u001b[38;5;241m.\u001b[39mcopy()\n\u001b[1;32m---> 15\u001b[0m x_actual_pivot \u001b[38;5;241m=\u001b[39m \u001b[43mx_actual_df\u001b[49m\u001b[38;5;241;43m.\u001b[39;49m\u001b[43mpivot\u001b[49m\u001b[43m(\u001b[49m\u001b[43mindex\u001b[49m\u001b[38;5;241;43m=\u001b[39;49m\u001b[38;5;124;43m\"\u001b[39;49m\u001b[38;5;124;43mgrupo\u001b[39;49m\u001b[38;5;124;43m\"\u001b[39;49m\u001b[43m,\u001b[49m\u001b[43m \u001b[49m\u001b[43mcolumns\u001b[49m\u001b[38;5;241;43m=\u001b[39;49m\u001b[38;5;124;43m\"\u001b[39;49m\u001b[38;5;124;43mservidor\u001b[39;49m\u001b[38;5;124;43m\"\u001b[39;49m\u001b[43m,\u001b[49m\u001b[43m \u001b[49m\u001b[43mvalues\u001b[49m\u001b[38;5;241;43m=\u001b[39;49m\u001b[38;5;124;43m\"\u001b[39;49m\u001b[38;5;124;43mx_actual\u001b[39;49m\u001b[38;5;124;43m\"\u001b[39;49m\u001b[43m)\u001b[49m\u001b[38;5;241m.\u001b[39mfillna(\u001b[38;5;241m0\u001b[39m)\n\u001b[0;32m     17\u001b[0m \u001b[38;5;66;03m# Costo actual:\u001b[39;00m\n\u001b[0;32m     18\u001b[0m costo_actual \u001b[38;5;241m=\u001b[39m \u001b[38;5;241m0\u001b[39m\n",
      "File \u001b[1;32mc:\\Users\\manue\\Desktop\\YO\\ORT\\sem4\\algebra\\obligatorioAlgebra\\oblialgebra\\Lib\\site-packages\\pandas\\core\\frame.py:9339\u001b[0m, in \u001b[0;36mDataFrame.pivot\u001b[1;34m(self, columns, index, values)\u001b[0m\n\u001b[0;32m   9332\u001b[0m \u001b[38;5;129m@Substitution\u001b[39m(\u001b[38;5;124m\"\u001b[39m\u001b[38;5;124m\"\u001b[39m)\n\u001b[0;32m   9333\u001b[0m \u001b[38;5;129m@Appender\u001b[39m(_shared_docs[\u001b[38;5;124m\"\u001b[39m\u001b[38;5;124mpivot\u001b[39m\u001b[38;5;124m\"\u001b[39m])\n\u001b[0;32m   9334\u001b[0m \u001b[38;5;28;01mdef\u001b[39;00m \u001b[38;5;21mpivot\u001b[39m(\n\u001b[0;32m   9335\u001b[0m     \u001b[38;5;28mself\u001b[39m, \u001b[38;5;241m*\u001b[39m, columns, index\u001b[38;5;241m=\u001b[39mlib\u001b[38;5;241m.\u001b[39mno_default, values\u001b[38;5;241m=\u001b[39mlib\u001b[38;5;241m.\u001b[39mno_default\n\u001b[0;32m   9336\u001b[0m ) \u001b[38;5;241m-\u001b[39m\u001b[38;5;241m>\u001b[39m DataFrame:\n\u001b[0;32m   9337\u001b[0m     \u001b[38;5;28;01mfrom\u001b[39;00m \u001b[38;5;21;01mpandas\u001b[39;00m\u001b[38;5;21;01m.\u001b[39;00m\u001b[38;5;21;01mcore\u001b[39;00m\u001b[38;5;21;01m.\u001b[39;00m\u001b[38;5;21;01mreshape\u001b[39;00m\u001b[38;5;21;01m.\u001b[39;00m\u001b[38;5;21;01mpivot\u001b[39;00m \u001b[38;5;28;01mimport\u001b[39;00m pivot\n\u001b[1;32m-> 9339\u001b[0m     \u001b[38;5;28;01mreturn\u001b[39;00m \u001b[43mpivot\u001b[49m\u001b[43m(\u001b[49m\u001b[38;5;28;43mself\u001b[39;49m\u001b[43m,\u001b[49m\u001b[43m \u001b[49m\u001b[43mindex\u001b[49m\u001b[38;5;241;43m=\u001b[39;49m\u001b[43mindex\u001b[49m\u001b[43m,\u001b[49m\u001b[43m \u001b[49m\u001b[43mcolumns\u001b[49m\u001b[38;5;241;43m=\u001b[39;49m\u001b[43mcolumns\u001b[49m\u001b[43m,\u001b[49m\u001b[43m \u001b[49m\u001b[43mvalues\u001b[49m\u001b[38;5;241;43m=\u001b[39;49m\u001b[43mvalues\u001b[49m\u001b[43m)\u001b[49m\n",
      "File \u001b[1;32mc:\\Users\\manue\\Desktop\\YO\\ORT\\sem4\\algebra\\obligatorioAlgebra\\oblialgebra\\Lib\\site-packages\\pandas\\core\\reshape\\pivot.py:553\u001b[0m, in \u001b[0;36mpivot\u001b[1;34m(data, columns, index, values)\u001b[0m\n\u001b[0;32m    549\u001b[0m         index_list \u001b[38;5;241m=\u001b[39m [\n\u001b[0;32m    550\u001b[0m             data\u001b[38;5;241m.\u001b[39m_constructor_sliced(data\u001b[38;5;241m.\u001b[39mindex, name\u001b[38;5;241m=\u001b[39mdata\u001b[38;5;241m.\u001b[39mindex\u001b[38;5;241m.\u001b[39mname)\n\u001b[0;32m    551\u001b[0m         ]\n\u001b[0;32m    552\u001b[0m \u001b[38;5;28;01melse\u001b[39;00m:\n\u001b[1;32m--> 553\u001b[0m     index_list \u001b[38;5;241m=\u001b[39m \u001b[43m[\u001b[49m\u001b[43mdata\u001b[49m\u001b[43m[\u001b[49m\u001b[43midx\u001b[49m\u001b[43m]\u001b[49m\u001b[43m \u001b[49m\u001b[38;5;28;43;01mfor\u001b[39;49;00m\u001b[43m \u001b[49m\u001b[43midx\u001b[49m\u001b[43m \u001b[49m\u001b[38;5;129;43;01min\u001b[39;49;00m\u001b[43m \u001b[49m\u001b[43mcom\u001b[49m\u001b[38;5;241;43m.\u001b[39;49m\u001b[43mconvert_to_list_like\u001b[49m\u001b[43m(\u001b[49m\u001b[43mindex\u001b[49m\u001b[43m)\u001b[49m\u001b[43m]\u001b[49m\n\u001b[0;32m    555\u001b[0m data_columns \u001b[38;5;241m=\u001b[39m [data[col] \u001b[38;5;28;01mfor\u001b[39;00m col \u001b[38;5;129;01min\u001b[39;00m columns_listlike]\n\u001b[0;32m    556\u001b[0m index_list\u001b[38;5;241m.\u001b[39mextend(data_columns)\n",
      "File \u001b[1;32mc:\\Users\\manue\\Desktop\\YO\\ORT\\sem4\\algebra\\obligatorioAlgebra\\oblialgebra\\Lib\\site-packages\\pandas\\core\\reshape\\pivot.py:553\u001b[0m, in \u001b[0;36m<listcomp>\u001b[1;34m(.0)\u001b[0m\n\u001b[0;32m    549\u001b[0m         index_list \u001b[38;5;241m=\u001b[39m [\n\u001b[0;32m    550\u001b[0m             data\u001b[38;5;241m.\u001b[39m_constructor_sliced(data\u001b[38;5;241m.\u001b[39mindex, name\u001b[38;5;241m=\u001b[39mdata\u001b[38;5;241m.\u001b[39mindex\u001b[38;5;241m.\u001b[39mname)\n\u001b[0;32m    551\u001b[0m         ]\n\u001b[0;32m    552\u001b[0m \u001b[38;5;28;01melse\u001b[39;00m:\n\u001b[1;32m--> 553\u001b[0m     index_list \u001b[38;5;241m=\u001b[39m [\u001b[43mdata\u001b[49m\u001b[43m[\u001b[49m\u001b[43midx\u001b[49m\u001b[43m]\u001b[49m \u001b[38;5;28;01mfor\u001b[39;00m idx \u001b[38;5;129;01min\u001b[39;00m com\u001b[38;5;241m.\u001b[39mconvert_to_list_like(index)]\n\u001b[0;32m    555\u001b[0m data_columns \u001b[38;5;241m=\u001b[39m [data[col] \u001b[38;5;28;01mfor\u001b[39;00m col \u001b[38;5;129;01min\u001b[39;00m columns_listlike]\n\u001b[0;32m    556\u001b[0m index_list\u001b[38;5;241m.\u001b[39mextend(data_columns)\n",
      "File \u001b[1;32mc:\\Users\\manue\\Desktop\\YO\\ORT\\sem4\\algebra\\obligatorioAlgebra\\oblialgebra\\Lib\\site-packages\\pandas\\core\\frame.py:4102\u001b[0m, in \u001b[0;36mDataFrame.__getitem__\u001b[1;34m(self, key)\u001b[0m\n\u001b[0;32m   4100\u001b[0m \u001b[38;5;28;01mif\u001b[39;00m \u001b[38;5;28mself\u001b[39m\u001b[38;5;241m.\u001b[39mcolumns\u001b[38;5;241m.\u001b[39mnlevels \u001b[38;5;241m>\u001b[39m \u001b[38;5;241m1\u001b[39m:\n\u001b[0;32m   4101\u001b[0m     \u001b[38;5;28;01mreturn\u001b[39;00m \u001b[38;5;28mself\u001b[39m\u001b[38;5;241m.\u001b[39m_getitem_multilevel(key)\n\u001b[1;32m-> 4102\u001b[0m indexer \u001b[38;5;241m=\u001b[39m \u001b[38;5;28;43mself\u001b[39;49m\u001b[38;5;241;43m.\u001b[39;49m\u001b[43mcolumns\u001b[49m\u001b[38;5;241;43m.\u001b[39;49m\u001b[43mget_loc\u001b[49m\u001b[43m(\u001b[49m\u001b[43mkey\u001b[49m\u001b[43m)\u001b[49m\n\u001b[0;32m   4103\u001b[0m \u001b[38;5;28;01mif\u001b[39;00m is_integer(indexer):\n\u001b[0;32m   4104\u001b[0m     indexer \u001b[38;5;241m=\u001b[39m [indexer]\n",
      "File \u001b[1;32mc:\\Users\\manue\\Desktop\\YO\\ORT\\sem4\\algebra\\obligatorioAlgebra\\oblialgebra\\Lib\\site-packages\\pandas\\core\\indexes\\base.py:3812\u001b[0m, in \u001b[0;36mIndex.get_loc\u001b[1;34m(self, key)\u001b[0m\n\u001b[0;32m   3807\u001b[0m     \u001b[38;5;28;01mif\u001b[39;00m \u001b[38;5;28misinstance\u001b[39m(casted_key, \u001b[38;5;28mslice\u001b[39m) \u001b[38;5;129;01mor\u001b[39;00m (\n\u001b[0;32m   3808\u001b[0m         \u001b[38;5;28misinstance\u001b[39m(casted_key, abc\u001b[38;5;241m.\u001b[39mIterable)\n\u001b[0;32m   3809\u001b[0m         \u001b[38;5;129;01mand\u001b[39;00m \u001b[38;5;28many\u001b[39m(\u001b[38;5;28misinstance\u001b[39m(x, \u001b[38;5;28mslice\u001b[39m) \u001b[38;5;28;01mfor\u001b[39;00m x \u001b[38;5;129;01min\u001b[39;00m casted_key)\n\u001b[0;32m   3810\u001b[0m     ):\n\u001b[0;32m   3811\u001b[0m         \u001b[38;5;28;01mraise\u001b[39;00m InvalidIndexError(key)\n\u001b[1;32m-> 3812\u001b[0m     \u001b[38;5;28;01mraise\u001b[39;00m \u001b[38;5;167;01mKeyError\u001b[39;00m(key) \u001b[38;5;28;01mfrom\u001b[39;00m \u001b[38;5;21;01merr\u001b[39;00m\n\u001b[0;32m   3813\u001b[0m \u001b[38;5;28;01mexcept\u001b[39;00m \u001b[38;5;167;01mTypeError\u001b[39;00m:\n\u001b[0;32m   3814\u001b[0m     \u001b[38;5;66;03m# If we have a listlike key, _check_indexing_error will raise\u001b[39;00m\n\u001b[0;32m   3815\u001b[0m     \u001b[38;5;66;03m#  InvalidIndexError. Otherwise we fall through and re-raise\u001b[39;00m\n\u001b[0;32m   3816\u001b[0m     \u001b[38;5;66;03m#  the TypeError.\u001b[39;00m\n\u001b[0;32m   3817\u001b[0m     \u001b[38;5;28mself\u001b[39m\u001b[38;5;241m.\u001b[39m_check_indexing_error(key)\n",
      "\u001b[1;31mKeyError\u001b[0m: 'grupo'"
     ]
    }
   ],
   "source": [
    "# 6. Obtener la distribución óptima\n",
    "solucion_x = pd.DataFrame([{\"grupo\": g, \"servidor\": s, \"asignacion\": x[(g,s)].value} \n",
    "                           for g in grupos for s in servidores])\n",
    "\n",
    "# Filtrar las asignaciones no triviales\n",
    "solucion_x = solucion_x[solucion_x[\"asignacion\"] > 1e-9].fillna(0)\n",
    "\n",
    "print(\"Distribución óptima:\")\n",
    "print(solucion_x)\n",
    "\n",
    "# 7. Calcular el ahorro con respecto a la infraestructura actual\n",
    "# La infraestructura actual podría traer x_actual por minuto.\n",
    "# Supongamos que infraestructura_actual.csv tiene columnas: grupo, servidor, x_actual.\n",
    "x_actual_df = infra_actual_df.copy()\n",
    "x_actual_pivot = x_actual_df.pivot(index=\"grupo\", columns=\"servidor\", values=\"x_actual\").fillna(0)\n",
    "\n",
    "# Costo actual:\n",
    "costo_actual = 0\n",
    "for g in grupos:\n",
    "    for s in servidores:\n",
    "        req = x_actual_pivot.loc[g,s]\n",
    "        lat_ex = max(latencia.loc[g,s]-L_SLA,0)\n",
    "        costo_actual += req * (costo_bw.loc[g,s] + lat_ex*c_lat)\n",
    "\n",
    "print(\"Costo infraestructura actual por minuto:\", costo_actual)\n",
    "print(\"Costo óptimo por minuto:\", prob.value)\n",
    "\n",
    "ahorro_por_minuto = costo_actual - prob.value\n",
    "print(\"Ahorro por minuto:\", ahorro_por_minuto)\n",
    "\n",
    "# Asumiendo un mes de 30 días, con 1440 minutos/día:\n",
    "minutos_por_mes = 30*24*60\n",
    "ahorro_mensual = ahorro_por_minuto * minutos_por_mes\n",
    "print(\"Ahorro por mes:\", ahorro_mensual, \"USD\")\n",
    "\n",
    "# 8. Mejora de 200ms en un servidor\n",
    "# Probaremos la reducción de 200ms para cada servidor y veremos cómo impacta el costo.\n",
    "# Guardamos el resultado en un diccionario para comparar.\n",
    "inversion = 1000.0\n",
    "mejoras = {}\n",
    "\n",
    "for serv_mejora in servidores:\n",
    "    # Creamos una copia de la latencia modificando solo serv_mejora\n",
    "    latencia_mejorada = latencia.copy()\n",
    "    latencia_mejorada[serv_mejora] = (latencia_mejorada[serv_mejora] - 200).clip(lower=0)\n",
    "    \n",
    "    # Recalcular costo latencia\n",
    "    latencia_excedida_mej = (latencia_mejorada - L_SLA).clip(lower=0)\n",
    "    costo_latencia_mej = latencia_excedida_mej * c_lat\n",
    "    \n",
    "    # Nuevo problema con la latencia mejorada\n",
    "    x_mej = {(g,s): cp.Variable(nonneg=True) for g in grupos for s in servidores}\n",
    "    \n",
    "    obj_mej = cp.sum([ x_mej[(g,s)] * (costo_bw.loc[g,s] + costo_latencia_mej.loc[g,s]) \n",
    "                       for g in grupos for s in servidores ])\n",
    "    \n",
    "    restricciones_mej = []\n",
    "    for g in grupos:\n",
    "        restricciones_mej.append(cp.sum([x_mej[(g,s)] for s in servidores]) == demanda[g])\n",
    "    for s in servidores:\n",
    "        restricciones_mej.append(cp.sum([x_mej[(g,s)] for g in grupos]) <= carga_max[s])\n",
    "    \n",
    "    prob_mej = cp.Problem(cp.Minimize(obj_mej), restricciones_mej)\n",
    "    prob_mej.solve(solver=cp.GUROBI, verbose=False)\n",
    "    \n",
    "    costo_mejorado = prob_mej.value\n",
    "    reduccion_costo = prob.value - costo_mejorado\n",
    "    \n",
    "    # Tiempo de recuperación = 1000 USD / (reduccion_costo * minutos_por_mes)\n",
    "    # (asumiendo que la reducción se mantiene mes a mes)\n",
    "    if reduccion_costo > 0:\n",
    "        tiempo_recuperacion_meses = inversion / (reduccion_costo * minutos_por_mes)\n",
    "    else:\n",
    "        tiempo_recuperacion_meses = np.inf\n",
    "    \n",
    "    mejoras[serv_mejora] = {\n",
    "        \"costo_mejorado\": costo_mejorado,\n",
    "        \"reduccion_por_minuto\": reduccion_costo,\n",
    "        \"tiempo_recuperacion_meses\": tiempo_recuperacion_meses\n",
    "    }\n",
    "\n",
    "print(\"Resultados de la mejora de latencia (200ms menos) por servidor:\")\n",
    "mejora_df = pd.DataFrame.from_dict(mejoras, orient=\"index\")\n",
    "print(mejora_df)\n",
    "\n",
    "# Elegir el servidor con el menor tiempo de recuperación\n",
    "servidor_elegido = mejora_df[\"tiempo_recuperacion_meses\"].idxmin()\n",
    "print(\"Servidor a elegir para recuperar la inversión más rápido:\", servidor_elegido)\n",
    "print(\"Tiempo de recuperación (meses):\", mejora_df.loc[servidor_elegido, \"tiempo_recuperacion_meses\"])\n"
   ]
  },
  {
   "cell_type": "code",
   "execution_count": null,
   "metadata": {},
   "outputs": [],
   "source": []
  }
 ],
 "metadata": {
  "kernelspec": {
   "display_name": "oblialgebra",
   "language": "python",
   "name": "python3"
  },
  "language_info": {
   "codemirror_mode": {
    "name": "ipython",
    "version": 3
   },
   "file_extension": ".py",
   "mimetype": "text/x-python",
   "name": "python",
   "nbconvert_exporter": "python",
   "pygments_lexer": "ipython3",
   "version": "3.11.5"
  }
 },
 "nbformat": 4,
 "nbformat_minor": 2
}
